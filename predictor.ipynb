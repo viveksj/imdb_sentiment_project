{
 "cells": [
  {
   "cell_type": "code",
   "execution_count": 1,
   "metadata": {},
   "outputs": [],
   "source": [
    "from nltk.corpus import stopwords\n",
    "from string import punctuation\n",
    "import pickle\n",
    "import os"
   ]
  },
  {
   "cell_type": "code",
   "execution_count": 2,
   "metadata": {},
   "outputs": [],
   "source": [
    "home_dir=os.getcwd()+'/'\n",
    "# home_dir='/Users/vivek/My Folder/Learning/imdb_sentiment_project/review_polarity/'\n",
    "\n",
    "dict_sent_mapping = {\n",
    "        0: 'Negative',\n",
    "        1: 'Positive',\n",
    "    }"
   ]
  },
  {
   "cell_type": "code",
   "execution_count": 3,
   "metadata": {},
   "outputs": [],
   "source": [
    "# turn a doc into clean tokens\n",
    "def clean_doc(doc):\n",
    "\t# split into tokens by white space\n",
    "\ttokens = doc.split()\n",
    "\t# remove punctuation from each token\n",
    "\ttable = str.maketrans('', '', punctuation)\n",
    "\ttokens = [w.translate(table) for w in tokens]\n",
    "\t# remove remaining tokens that are not alphabetic\n",
    "\ttokens = [word for word in tokens if word.isalpha()]\n",
    "\t# filter out stop words\n",
    "\tstop_words = set(stopwords.words('english'))\n",
    "\ttokens = [w for w in tokens if not w in stop_words]\n",
    "\t# filter out short tokens\n",
    "\ttokens = [word for word in tokens if len(word) > 1]\n",
    "\treturn tokens\n",
    " \n",
    "\n",
    "def load_doc(filename):\n",
    "\t# open the file as read only\n",
    "\tfile = open(filename, 'r')\n",
    "\t# read all text\n",
    "\ttext = file.read()\n",
    "\t# close the file\n",
    "\tfile.close()\n",
    "\treturn text\n",
    " "
   ]
  },
  {
   "cell_type": "code",
   "execution_count": 4,
   "metadata": {},
   "outputs": [],
   "source": [
    "def get_vocab(vocab_filename = 'vocab.txt'):\n",
    "    # vocab_filename = 'vocab.txt'\n",
    "    vocab = load_doc(os.getcwd()+'/'+vocab_filename)\n",
    "    vocab = vocab.split()\n",
    "    vocab = set(vocab)\n",
    "    return vocab\n",
    "\n"
   ]
  },
  {
   "cell_type": "code",
   "execution_count": 5,
   "metadata": {},
   "outputs": [],
   "source": [
    "vocab=get_vocab()"
   ]
  },
  {
   "cell_type": "code",
   "execution_count": 6,
   "metadata": {},
   "outputs": [],
   "source": [
    "# classify a review as negative (0) or positive (1)\n",
    "def predict_sentiment(review, vocab, tokenizer, model):\n",
    "\ttokens = clean_doc(review)\n",
    "\t# filter by vocab\n",
    "\ttokens = [w for w in tokens if w in vocab]\n",
    "\t# convert to line\n",
    "\tline = ' '.join(tokens)\n",
    "\t# encode\n",
    "\tencoded = tokenizer.texts_to_matrix([line], mode='freq')\n",
    "\t# prediction\n",
    "\tyhat = model.predict(encoded, verbose=0)\n",
    "\treturn round(yhat[0,0])\n",
    "#Rounding won't work well with multi-class classifiers."
   ]
  },
  {
   "cell_type": "code",
   "execution_count": 7,
   "metadata": {},
   "outputs": [],
   "source": [
    "# classify a review as negative (0) or positive (1)\n",
    "def predict_sentiment_with_probability(review, vocab, tokenizer, model):\n",
    "\t# clean\n",
    "\ttokens = clean_doc(review)\n",
    "\t# filter by vocab\n",
    "\ttokens = [w for w in tokens if w in vocab]\n",
    "\t# convert to line\n",
    "\tline = ' '.join(tokens)\n",
    "\t# encode\n",
    "\tencoded = tokenizer.texts_to_matrix([line], mode='freq')\n",
    "\t# prediction\n",
    "\typroba = model.predict_proba(encoded, verbose=0)    \n",
    "# \tprint(yproba)\n",
    "\t#model.predict() and model.predict_proba() gives the same result. For classes, use model.predict_classes()\n",
    "\tyhat = model.predict_classes(encoded, verbose=0)\n",
    "\tsent=dict_sent_mapping[yhat[0][0]] #Using dictionary to reverse mapping of class to label\n",
    "# \tprint(sent,yproba)    \n",
    "\treturn (sent,yproba)  "
   ]
  },
  {
   "cell_type": "code",
   "execution_count": null,
   "metadata": {},
   "outputs": [],
   "source": []
  },
  {
   "cell_type": "code",
   "execution_count": null,
   "metadata": {},
   "outputs": [],
   "source": [
    "def get_tokenizer_and_model(tok_name='tokenizer.pickle', model_name=''):\n",
    "    #\n",
    "    # loading tokenizer\n",
    "    with open(tok_name, 'rb') as handle:\n",
    "        tokenizer = pickle.load(handle)\n",
    "    #\n",
    "    # load the model from disk\n",
    "filename='finalized_model.sav'\n",
    "model=loaded_model = pickle.load(open(filename, 'rb'))\n",
    "    \n",
    "    return tokenizer, model\n"
   ]
  },
  {
   "cell_type": "code",
   "execution_count": 8,
   "metadata": {},
   "outputs": [
    {
     "name": "stderr",
     "output_type": "stream",
     "text": [
      "Using TensorFlow backend.\n"
     ]
    }
   ],
   "source": [
    "\n",
    "\n",
    "    \n",
    "\n",
    "\n",
    "#Write function to load tokenizer and model later\n",
    "   "
   ]
  },
  {
   "cell_type": "code",
   "execution_count": null,
   "metadata": {},
   "outputs": [],
   "source": []
  },
  {
   "cell_type": "code",
   "execution_count": 9,
   "metadata": {},
   "outputs": [
    {
     "name": "stdout",
     "output_type": "stream",
     "text": [
      "1.0\n",
      "0.0\n"
     ]
    }
   ],
   "source": [
    "# test positive text\n",
    "text = 'Best movie ever!'\n",
    "print(predict_sentiment(text, vocab, tokenizer, model))\n",
    "# test negative text\n",
    "text = 'This is a bad movie.'\n",
    "print(predict_sentiment(text, vocab, tokenizer, model))"
   ]
  },
  {
   "cell_type": "code",
   "execution_count": 10,
   "metadata": {},
   "outputs": [
    {
     "name": "stdout",
     "output_type": "stream",
     "text": [
      "('Positive', array([[0.98006564]], dtype=float32))\n",
      "('Negative', array([[1.5453779e-07]], dtype=float32))\n"
     ]
    }
   ],
   "source": [
    "# test positive text\n",
    "text = '''The legend of Bhagat singh is one of the best movie ever! \n",
    "It is a cinematic masterpiece like none other.'''  # test positive text\n",
    "print(predict_sentiment_with_probability(text, vocab, tokenizer, model))\n",
    "# test negative text\n",
    "text = '''Panipat is an awful movie. I don't think that such a bad movie has been made since Farah Khan's Joker. '''\n",
    "print(predict_sentiment_with_probability(text, vocab, tokenizer, model))"
   ]
  },
  {
   "cell_type": "code",
   "execution_count": 11,
   "metadata": {},
   "outputs": [
    {
     "name": "stdout",
     "output_type": "stream",
     "text": [
      "1.0\n",
      "0.0\n"
     ]
    }
   ],
   "source": [
    "text = 'good'\n",
    "print(predict_sentiment(text, vocab, tokenizer, model))\n",
    "# test negative text\n",
    "text = 'bad'\n",
    "print(predict_sentiment(text, vocab, tokenizer, model))"
   ]
  },
  {
   "cell_type": "code",
   "execution_count": null,
   "metadata": {},
   "outputs": [],
   "source": []
  },
  {
   "cell_type": "code",
   "execution_count": null,
   "metadata": {},
   "outputs": [],
   "source": [
    "#Things that you can improve on:\n",
    "    #1. Put all helper functions in a different file and import it\n",
    "    #2. Figure out how to connect this to a flask api and provide an end point.\n",
    "    #3. Tokenizer and model can be put in a separate function.\n",
    "    "
   ]
  }
 ],
 "metadata": {
  "kernelspec": {
   "display_name": "Python 3",
   "language": "python",
   "name": "python3"
  },
  "language_info": {
   "codemirror_mode": {
    "name": "ipython",
    "version": 3
   },
   "file_extension": ".py",
   "mimetype": "text/x-python",
   "name": "python",
   "nbconvert_exporter": "python",
   "pygments_lexer": "ipython3",
   "version": "3.7.4"
  },
  "widgets": {
   "application/vnd.jupyter.widget-state+json": {
    "state": {},
    "version_major": 2,
    "version_minor": 0
   }
  }
 },
 "nbformat": 4,
 "nbformat_minor": 2
}
